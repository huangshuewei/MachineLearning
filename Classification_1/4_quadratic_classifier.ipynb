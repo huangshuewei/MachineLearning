{
 "cells": [
  {
   "cell_type": "code",
   "execution_count": 1,
   "metadata": {},
   "outputs": [],
   "source": [
    "\"\"\"\n",
    "@author: Shu-wei Huang \n",
    "\"\"\"\n",
    "import matplotlib.pyplot as plt\n",
    "import numpy as np\n",
    "from numpy import loadtxt\n",
    "\n",
    "def multivariate_gaussian_pdf(X,MU,SIGMA):\n",
    "    '''Returns the pdf of a nultivariate gaussian distribution\n",
    "     X, Mean(MU) are p x 1 vectors\n",
    "     Covariance(SIGMA) is a p x p matrix\n",
    "     '''\n",
    "    # initialize and reshape\n",
    "    X = X.reshape(-1,1)\n",
    "    MU = MU.reshape(-1,1)\n",
    "    p,_ = SIGMA.shape\n",
    "\n",
    "    # compute values\n",
    "    SIGMA_inv = np.linalg.inv(SIGMA)\n",
    "    denominator = np.sqrt((2 * np.pi)**p * np.linalg.det(SIGMA))\n",
    "    exponent = -(1/2) * ((X - MU).T @ SIGMA_inv @ (X - MU))\n",
    "    \n",
    "    # return result\n",
    "    return float((1. / denominator) * np.exp(exponent) )   \n",
    "\n",
    "def cal_lr(X,MU1,MU2,SIGMA1,SIGMA2):\n",
    "    # calculate likelihood ratio\n",
    "    lr = np.log10(multivariate_gaussian_pdf(X,MU1,SIGMA1)/multivariate_gaussian_pdf(X,MU2,SIGMA2))\n",
    "    \n",
    "    # return result\n",
    "    return float(lr)"
   ]
  },
  {
   "cell_type": "code",
   "execution_count": 2,
   "metadata": {},
   "outputs": [],
   "source": [
    "'''\n",
    "#######################\n",
    "reading from the file\n",
    "'''\n",
    "classA_train = loadtxt('classA_train.dat').T\n",
    "\n",
    "classB_train = loadtxt('classB_train.dat').T\n",
    "\n",
    "classA_test = loadtxt('classA_test.dat').T\n",
    "\n",
    "classB_test = loadtxt('classB_test.dat').T\n",
    "\n",
    "# mean value and covariance\n",
    "mean_A_train = np.mean(classA_train, axis = 1)\n",
    "mean_B_train = np.mean(classB_train, axis = 1)\n",
    "covar_A_train = np.cov(classA_train)\n",
    "covar_B_train = np.cov(classB_train)\n",
    "\n",
    "# estimating the parameters\n",
    "lrA_array = np.array([]);\n",
    "lrB_array = np.array([]);"
   ]
  },
  {
   "cell_type": "code",
   "execution_count": 3,
   "metadata": {},
   "outputs": [],
   "source": [
    "'''\n",
    "use training data to generate likelihood ratio model, and it is tested by \n",
    "test data.\n",
    "'''\n",
    "for i in range(0,np.size(classA_test,axis=1)):\n",
    "    \n",
    "    lr = cal_lr(classA_test[:,i],\n",
    "                mean_A_train,\n",
    "                mean_B_train,\n",
    "                covar_A_train,\n",
    "                covar_B_train);\n",
    "    lrA_array = np.append(lrA_array,lr)\n",
    "    \n",
    "for i in range(0,np.size(classB_test,axis=1)):\n",
    "    \n",
    "    lr = cal_lr(classB_test[:,i],\n",
    "                mean_A_train,\n",
    "                mean_B_train,\n",
    "                covar_A_train,\n",
    "                covar_B_train);\n",
    "    lrB_array = np.append(lrB_array,lr)"
   ]
  },
  {
   "cell_type": "code",
   "execution_count": 4,
   "metadata": {},
   "outputs": [],
   "source": [
    "'''\n",
    "define a threshold t to scan likelihood ratio \n",
    "'''\n",
    "t = np.linspace(-10, 10, 1000);\n",
    "pre_A = np.array([]);\n",
    "pre_B = np.array([]);\n",
    "all_pre_A = np.array([]);\n",
    "all_pre_B = np.array([]);\n",
    "\n",
    "for i in range(0,np.size(t,0)):\n",
    "    \n",
    "    for j in range(0,np.size(lrA_array,axis=0)):\n",
    "        \n",
    "        if lrA_array[j] >= t[i]:\n",
    "            pre_A = np.append(pre_A,1)\n",
    "        else:\n",
    "            pre_A = np.append(pre_A,0)\n",
    "    all_pre_A = np.append(all_pre_A,pre_A)\n",
    "    pre_A = np.array([]);\n",
    "    for j in range(0,np.size(lrB_array,axis=0)):\n",
    "        \n",
    "        if lrB_array[j] < t[i]:\n",
    "            pre_B = np.append(pre_B,1)\n",
    "        else:\n",
    "            pre_B = np.append(pre_B,0)\n",
    "    all_pre_B = np.append(all_pre_B,pre_B)\n",
    "    pre_B = np.array([]);\n",
    "\n",
    "all_pre_A = all_pre_A.reshape(np.size(t,0), np.size(lrA_array,axis=0)).T\n",
    "all_pre_B = all_pre_B.reshape(np.size(t,0), np.size(lrB_array,axis=0)).T\n"
   ]
  },
  {
   "cell_type": "code",
   "execution_count": 5,
   "metadata": {},
   "outputs": [
    {
     "data": {
      "text/plain": [
       "(0, 1.01)"
      ]
     },
     "execution_count": 5,
     "metadata": {},
     "output_type": "execute_result"
    },
    {
     "data": {
      "image/png": "[encoded data removed]",
      "text/plain": [
       "<Figure size 432x288 with 1 Axes>"
      ]
     },
     "metadata": {},
     "output_type": "display_data"
    }
   ],
   "source": [
    "'''\n",
    "calculate True and False positives\n",
    "'''\n",
    "TP_array = np.array([]);\n",
    "TN_array = np.array([]);\n",
    "\n",
    "for i in range(0,np.size(t,0)):\n",
    "    TP = np.sum(all_pre_A[:,i])/np.size(classA_test,axis=1)\n",
    "    TN = np.sum(all_pre_B[:,i])/np.size(classB_test,axis=1)\n",
    "    TP_array = np.append(TP_array,TP)\n",
    "    TN_array = np.append(TN_array,TN)\n",
    "\n",
    "plt.figure\n",
    "plt.plot(1-TN_array,TP_array, color=\"blue\", label='ROC curve');\n",
    "# plt.plot([0,1],[0,1])\n",
    "# plt.plot([0,1],[1,0])\n",
    "plt.title(\"ROC curve for the classifier\");\n",
    "plt.xlabel(\"1-Specifity (False Positives)\")\n",
    "plt.ylabel(\"Sensitivity (True Positives)\")\n",
    "plt.legend()\n",
    "plt.xlim(-0.005, 1)\n",
    "plt.ylim(0, 1.01)\n",
    "# plt.axis('equal',adjustable='box')\n"
   ]
  }
 ],
 "metadata": {
  "kernelspec": {
   "display_name": "Python 3",
   "language": "python",
   "name": "python3"
  },
  "language_info": {
   "codemirror_mode": {
    "name": "ipython",
    "version": 3
   },
   "file_extension": ".py",
   "mimetype": "text/x-python",
   "name": "python",
   "nbconvert_exporter": "python",
   "pygments_lexer": "ipython3",
   "version": "3.6.5"
  }
 },
 "nbformat": 4,
 "nbformat_minor": 2
}
