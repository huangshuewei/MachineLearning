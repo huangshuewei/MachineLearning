{
 "cells": [
  {
   "cell_type": "code",
   "execution_count": null,
   "metadata": {},
   "outputs": [],
   "source": [
    "\"\"\"\n",
    "Example showing way of generating synthetic data\n",
    "\"\"\"\n",
    "\n",
    "from sklearn.datasets.samples_generator import make_blobs\n",
    "import matplotlib.pyplot as plt\n",
    "from mpl_toolkits.mplot3d import Axes3D"
   ]
  },
  {
   "cell_type": "code",
   "execution_count": null,
   "metadata": {},
   "outputs": [],
   "source": [
    "X, y = make_blobs(n_samples=500, centers = [(0, 1), (3, 3)], n_features=2)\n",
    "\n",
    "# Show all examples in same colour\n",
    "plt.plot(X[:,0],X[:,1],\"+\")\n",
    "plt.show()\n",
    "\n",
    "# Use different colours for different classes\n",
    "X0=X[y==0] # Select samples for class 0\n",
    "X1=X[y==1] # Select samples for class 1\n",
    "plt.title('Data distribution')\n",
    "plt.plot(X0[:,0],X0[:,1],\"+\",color=\"red\")\n",
    "plt.plot(X1[:,0],X1[:,1],\"o\",color=\"green\")\n",
    "plt.show()"
   ]
  },
  {
   "cell_type": "code",
   "execution_count": null,
   "metadata": {},
   "outputs": [],
   "source": [
    "# Move the centres\n",
    "X, y = make_blobs(n_samples=500, centers = [(0, 1), (5, 5)], n_features=2)\n",
    "\n",
    "X0=X[y==0] # Select samples for class 0\n",
    "X1=X[y==1] # Select samples for class 1\n",
    "plt.title('Data distribution')\n",
    "plt.plot(X0[:,0],X0[:,1],\"+\",color=\"red\")\n",
    "plt.plot(X1[:,0],X1[:,1],\"o\",color=\"green\")\n",
    "plt.show()"
   ]
  },
  {
   "cell_type": "code",
   "execution_count": null,
   "metadata": {},
   "outputs": [],
   "source": [
    "# Change the number of samples\n",
    "X, y = make_blobs(n_samples=1500, centers = [(0, 1), (5, 5)], n_features=2)\n",
    "\n",
    "X0=X[y==0] # Select samples for class 0\n",
    "X1=X[y==1] # Select samples for class 1\n",
    "plt.title('Data distribution')\n",
    "plt.plot(X0[:,0],X0[:,1],\"+\",color=\"red\")\n",
    "plt.plot(X1[:,0],X1[:,1],\"o\",color=\"green\")\n",
    "plt.show()"
   ]
  },
  {
   "cell_type": "code",
   "execution_count": null,
   "metadata": {},
   "outputs": [],
   "source": [
    "# Change the number of features\n",
    "X, y = make_blobs(n_samples=1500, centers = [(1, 1, 1), (5, 5, 5)], n_features=3)\n",
    "\n",
    "X0=X[y==0] # Select samples for class 0\n",
    "X1=X[y==1] # Select samples for class 1\n",
    "\n",
    "fig = plt.figure()\n",
    "ax = fig.add_subplot(111, projection='3d')\n",
    "ax.scatter(X0[:,0],X0[:,1],X0[:,2])\n",
    "ax.scatter(X1[:,0],X1[:,1],X1[:,2])\n",
    "plt.title('Data distribution')\n",
    "plt.show()"
   ]
  }
 ],
 "metadata": {
  "kernelspec": {
   "display_name": "Python 3",
   "language": "python",
   "name": "python3"
  },
  "language_info": {
   "codemirror_mode": {
    "name": "ipython",
    "version": 3
   },
   "file_extension": ".py",
   "mimetype": "text/x-python",
   "name": "python",
   "nbconvert_exporter": "python",
   "pygments_lexer": "ipython3",
   "version": "3.6.5"
  }
 },
 "nbformat": 4,
 "nbformat_minor": 2
}
