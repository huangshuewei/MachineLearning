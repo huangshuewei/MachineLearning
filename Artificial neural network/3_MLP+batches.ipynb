{
 "cells": [
  {
   "cell_type": "code",
   "execution_count": 1,
   "metadata": {},
   "outputs": [
    {
     "name": "stderr",
     "output_type": "stream",
     "text": [
      "D:\\Users\\User\\Anaconda3\\lib\\site-packages\\sklearn\\utils\\deprecation.py:143: FutureWarning: The sklearn.datasets.samples_generator module is  deprecated in version 0.22 and will be removed in version 0.24. The corresponding classes / functions should instead be imported from sklearn.datasets. Anything that cannot be imported from sklearn.datasets is now part of the private API.\n",
      "  warnings.warn(message, FutureWarning)\n"
     ]
    }
   ],
   "source": [
    "\"\"\"\n",
    "Example of building a Multi-layer Perceptron with PyTorch\n",
    "Shows how to use optimizer to simplify steps.\n",
    "Shows how to break down optimization into batches.\n",
    "\n",
    "\"\"\"\n",
    "\n",
    "import torch\n",
    "from sklearn.datasets.samples_generator import make_blobs\n",
    "import numpy as np\n",
    "import matplotlib.pyplot as plt\n",
    "import time"
   ]
  },
  {
   "cell_type": "code",
   "execution_count": 2,
   "metadata": {},
   "outputs": [],
   "source": [
    "# Display contour plot of f at all points (x[i],y[j])\n",
    "def contour_plot1(x,y,f,n_levels):\n",
    "    xx, yy = np.meshgrid(x, y)\n",
    "    p=np.hstack([xx.reshape(-1,1),yy.reshape(-1,1)])\n",
    "    X=torch.tensor(p,dtype=torch.float32)\n",
    "    fp=f(X)\n",
    "    z=fp.reshape(xx.shape).detach().numpy()\n",
    "    plt.contourf(x,y,z,n_levels)\n"
   ]
  },
  {
   "cell_type": "code",
   "execution_count": 3,
   "metadata": {},
   "outputs": [],
   "source": [
    "n_samples=150\n",
    "\n",
    "Xnp, ynp = make_blobs(n_samples=n_samples, centers = [(1, 1), (5, 3), (7, 1)], n_features=2)\n",
    "ynp[ynp==2]=0 # Blob2 relabelled as 0\n",
    "\n",
    "X=torch.tensor(Xnp,dtype=torch.float32)\n",
    "y=torch.tensor(ynp[:,np.newaxis],dtype=torch.float32)\n",
    "\n",
    "N_hidden=10  # Number of dimensions of hidden layer"
   ]
  },
  {
   "cell_type": "code",
   "execution_count": 4,
   "metadata": {},
   "outputs": [],
   "source": [
    "# Use the nn package to define a model as a sequence of layers. \n",
    "# nn.Sequential is a Module which contains other Modules, \n",
    "# and applies them in sequence to produce its output. \n",
    "# Each Linear Module computes output from input using a\n",
    "# linear function, and holds internal Tensors for its weight and bias.\n",
    "model = torch.nn.Sequential(\n",
    "    torch.nn.Linear(2, N_hidden),\n",
    "    torch.nn.Sigmoid(),\n",
    "    torch.nn.Linear(N_hidden, 1),\n",
    "    torch.nn.Sigmoid()\n",
    ")\n",
    "\n",
    "# Use Binary Cross Entropy as loss function.\n",
    "loss_fn = torch.nn.BCELoss()\n",
    "\n",
    "# Define optimizer and show it the parameters\n",
    "learning_rate=1e-3\n",
    "optimizer = torch.optim.Adam(model.parameters(), lr=learning_rate)"
   ]
  },
  {
   "cell_type": "code",
   "execution_count": 5,
   "metadata": {},
   "outputs": [],
   "source": [
    "# Number of samples per batch\n",
    "# Must divide number of samples exactly\n",
    "batch_size=50\n",
    "\n",
    "# Number of complete passes through all data\n",
    "n_epochs=1000"
   ]
  },
  {
   "cell_type": "code",
   "execution_count": 6,
   "metadata": {},
   "outputs": [
    {
     "name": "stdout",
     "output_type": "stream",
     "text": [
      "100 1.6440913081169128\n",
      "200 1.3088887333869934\n",
      "300 1.0438079237937927\n",
      "400 0.8674063980579376\n",
      "500 0.7587249726057053\n",
      "600 0.6931703835725784\n",
      "700 0.6528881639242172\n",
      "800 0.6272076368331909\n",
      "900 0.6106142103672028\n",
      "1000 0.5990457385778427\n",
      "Total time spent optimizing: 2.6sec.\n"
     ]
    }
   ],
   "source": [
    "start_time=time.perf_counter()\n",
    "\n",
    "for ep in range(n_epochs):\n",
    "    # Randomly permute the data so it is presented\n",
    "    # in a different order in each epoch\n",
    "    perm=np.random.permutation(n_samples)\n",
    "    \n",
    "    # Total loss is sum over all batches\n",
    "    total_loss=0\n",
    "    \n",
    "    for b in range(round(n_samples/batch_size)):\n",
    "        # Pick out the b-th chunk of the data\n",
    "        batch_perm=perm[b*batch_size:(b+1)*batch_size]\n",
    "        y_pred = model(X[batch_perm])\n",
    "    \n",
    "        loss = loss_fn(y_pred, y[batch_perm])\n",
    "        total_loss+=loss.item()\n",
    "   \n",
    "        # Zero the gradients before running the backward pass.\n",
    "        model.zero_grad()\n",
    "    \n",
    "        # Compute gradients. \n",
    "        loss.backward()\n",
    "    \n",
    "        # Use the optimizer to update the weights\n",
    "        optimizer.step()\n",
    "            \n",
    "    if ((ep+1)%100==0):  # Print every 100th epoch\n",
    "        print(ep+1, total_loss)\n",
    " \n",
    "end_time =time.perf_counter()\n",
    "print(\"Total time spent optimizing: {:0.1f}sec.\".format(end_time-start_time))"
   ]
  },
  {
   "cell_type": "code",
   "execution_count": 7,
   "metadata": {},
   "outputs": [
    {
     "data": {
      "image/png": "[encoded data removed]",
      "text/plain": [
       "<Figure size 432x288 with 1 Axes>"
      ]
     },
     "metadata": {},
     "output_type": "display_data"
    }
   ],
   "source": [
    "# Create a grid of points\n",
    "px = np.arange(Xnp[:,0].min()-0.5, Xnp[:,0].max()+0.5, 0.1)\n",
    "py = np.arange(Xnp[:,1].min()-0.5, Xnp[:,1].max()+0.5, 0.1)\n",
    "\n",
    "\n",
    "# Use different colours for different classes\n",
    "X0=Xnp[ynp==0] # Select samples for class 0\n",
    "X1=Xnp[ynp==1] # Select samples for class 1\n",
    "plt.plot(X0[:,0],X0[:,1],\"+\",color=\"red\")\n",
    "plt.plot(X1[:,0],X1[:,1],\"o\",color=\"green\")\n",
    "contour_plot1(px,py,model,15)\n"
   ]
  }
 ],
 "metadata": {
  "kernelspec": {
   "display_name": "Python 3",
   "language": "python",
   "name": "python3"
  },
  "language_info": {
   "codemirror_mode": {
    "name": "ipython",
    "version": 3
   },
   "file_extension": ".py",
   "mimetype": "text/x-python",
   "name": "python",
   "nbconvert_exporter": "python",
   "pygments_lexer": "ipython3",
   "version": "3.6.5"
  }
 },
 "nbformat": 4,
 "nbformat_minor": 2
}
