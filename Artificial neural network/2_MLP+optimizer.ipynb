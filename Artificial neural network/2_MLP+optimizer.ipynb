{
 "cells": [
  {
   "cell_type": "code",
   "execution_count": 1,
   "metadata": {},
   "outputs": [
    {
     "name": "stderr",
     "output_type": "stream",
     "text": [
      "D:\\Users\\User\\Anaconda3\\lib\\site-packages\\sklearn\\utils\\deprecation.py:143: FutureWarning: The sklearn.datasets.samples_generator module is  deprecated in version 0.22 and will be removed in version 0.24. The corresponding classes / functions should instead be imported from sklearn.datasets. Anything that cannot be imported from sklearn.datasets is now part of the private API.\n",
      "  warnings.warn(message, FutureWarning)\n"
     ]
    }
   ],
   "source": [
    "\"\"\"\n",
    "Example of building a Multi-layer Perceptron with PyTorch\n",
    "Shows how to use optimizer to simplify steps\n",
    "\n",
    "\"\"\"\n",
    "\n",
    "import torch\n",
    "from sklearn.datasets.samples_generator import make_blobs\n",
    "import numpy as np\n",
    "import matplotlib.pyplot as plt\n",
    "import time"
   ]
  },
  {
   "cell_type": "code",
   "execution_count": 2,
   "metadata": {},
   "outputs": [],
   "source": [
    "# Display contour plot of f at all points (x[i],y[j])\n",
    "def contour_plot1(x,y,f,n_levels):\n",
    "    xx, yy = np.meshgrid(x, y)\n",
    "    p=np.hstack([xx.reshape(-1,1),yy.reshape(-1,1)])\n",
    "    X=torch.tensor(p,dtype=torch.float32)\n",
    "    fp=f(X)\n",
    "    z=fp.reshape(xx.shape).detach().numpy()\n",
    "    plt.contourf(x,y,z,n_levels)"
   ]
  },
  {
   "cell_type": "code",
   "execution_count": 3,
   "metadata": {},
   "outputs": [],
   "source": [
    "Xnp, ynp = make_blobs(n_samples=150, centers = [(1, 1), (5, 3), (7, 1)], n_features=2)\n",
    "ynp[ynp==2]=0 # Blob2 relabelled as 0\n",
    "\n",
    "X=torch.tensor(Xnp,dtype=torch.float32)\n",
    "y=torch.tensor(ynp[:,np.newaxis],dtype=torch.float32)\n",
    "\n",
    "N_hidden=10  # Number of dimensions of hidden layer"
   ]
  },
  {
   "cell_type": "code",
   "execution_count": 4,
   "metadata": {},
   "outputs": [],
   "source": [
    "# Use the nn package to define a model as a sequence of layers. \n",
    "# nn.Sequential is a Module which contains other Modules, \n",
    "# and applies them in sequence to produce its output. \n",
    "# Each Linear Module computes output from input using a\n",
    "# linear function, and holds internal Tensors for its weight and bias.\n",
    "model = torch.nn.Sequential(\n",
    "    torch.nn.Linear(2, N_hidden),\n",
    "    torch.nn.Sigmoid(),\n",
    "    torch.nn.Linear(N_hidden, 1),\n",
    "    torch.nn.Sigmoid()\n",
    ")\n",
    "\n",
    "# Use Binary Cross Entropy as loss function.\n",
    "loss_fn = torch.nn.BCELoss()\n",
    "\n",
    "# Define optimizer and show it the parameters\n",
    "learning_rate=0.001\n",
    "optimizer = torch.optim.Adam(model.parameters(), lr=learning_rate)\n",
    "\n",
    "n_its=5000  # Number of iterations\n"
   ]
  },
  {
   "cell_type": "code",
   "execution_count": 5,
   "metadata": {},
   "outputs": [
    {
     "name": "stdout",
     "output_type": "stream",
     "text": [
      "200 0.5179479718208313\n",
      "400 0.417498916387558\n",
      "600 0.340017706155777\n",
      "800 0.28021785616874695\n",
      "1000 0.24052681028842926\n",
      "1200 0.21534772217273712\n",
      "1400 0.19876736402511597\n",
      "1600 0.18740786612033844\n",
      "1800 0.1793214976787567\n",
      "2000 0.1733560711145401\n",
      "2200 0.1688104271888733\n",
      "2400 0.1652446687221527\n",
      "2600 0.16237451136112213\n",
      "2800 0.16000908613204956\n",
      "3000 0.15801535546779633\n",
      "3200 0.156293585896492\n",
      "3400 0.1547485738992691\n",
      "3600 0.15319079160690308\n",
      "3800 0.1513810008764267\n",
      "4000 0.14977920055389404\n",
      "4200 0.14852218329906464\n",
      "4400 0.1475057154893875\n",
      "4600 0.14664636552333832\n",
      "4800 0.14588358998298645\n",
      "5000 0.14517299830913544\n",
      "Total time spent optimizing: 3.6sec.\n"
     ]
    }
   ],
   "source": [
    "start_time=time.perf_counter()\n",
    "\n",
    "for t in range(n_its):\n",
    "    y_pred = model(X)\n",
    "\n",
    "    loss = loss_fn(y_pred, y)\n",
    "    if ((t+1)%200==0):  # Print every 200th result\n",
    "        print(t+1, loss.item())\n",
    "\n",
    "    # Zero the gradients before running the backward pass.\n",
    "    model.zero_grad()\n",
    "\n",
    "    # Backward pass: compute gradient of the loss with respect to all the learnable\n",
    "    # parameters of the model. \n",
    "    loss.backward()\n",
    "\n",
    "    # Use the optimizer to update the weights\n",
    "    optimizer.step()\n",
    "         \n",
    "end_time=time.perf_counter()\n",
    "print(\"Total time spent optimizing: {:0.1f}sec.\".format(end_time-start_time))\n"
   ]
  },
  {
   "cell_type": "code",
   "execution_count": 6,
   "metadata": {},
   "outputs": [
    {
     "data": {
      "image/png": "[encoded data removed]",
      "text/plain": [
       "<Figure size 432x288 with 1 Axes>"
      ]
     },
     "metadata": {},
     "output_type": "display_data"
    }
   ],
   "source": [
    "# Create a grid of points\n",
    "px = np.arange(Xnp[:,0].min()-0.5, Xnp[:,0].max()+0.5, 0.1)\n",
    "py = np.arange(Xnp[:,1].min()-0.5, Xnp[:,1].max()+0.5, 0.1)\n",
    "\n",
    "\n",
    "# Use different colours for different classes\n",
    "X0=Xnp[ynp==0] # Select samples for class 0\n",
    "X1=Xnp[ynp==1] # Select samples for class 1\n",
    "plt.plot(X0[:,0],X0[:,1],\"+\",color=\"red\")\n",
    "plt.plot(X1[:,0],X1[:,1],\"o\",color=\"green\")\n",
    "contour_plot1(px,py,model,15)\n"
   ]
  }
 ],
 "metadata": {
  "kernelspec": {
   "display_name": "Python 3",
   "language": "python",
   "name": "python3"
  },
  "language_info": {
   "codemirror_mode": {
    "name": "ipython",
    "version": 3
   },
   "file_extension": ".py",
   "mimetype": "text/x-python",
   "name": "python",
   "nbconvert_exporter": "python",
   "pygments_lexer": "ipython3",
   "version": "3.6.5"
  }
 },
 "nbformat": 4,
 "nbformat_minor": 2
}
