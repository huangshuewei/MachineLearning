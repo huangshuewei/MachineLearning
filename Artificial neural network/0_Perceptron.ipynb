{
 "cells": [
  {
   "cell_type": "code",
   "execution_count": 1,
   "metadata": {},
   "outputs": [
    {
     "name": "stderr",
     "output_type": "stream",
     "text": [
      "D:\\Users\\User\\Anaconda3\\lib\\site-packages\\sklearn\\utils\\deprecation.py:143: FutureWarning: The sklearn.datasets.samples_generator module is  deprecated in version 0.22 and will be removed in version 0.24. The corresponding classes / functions should instead be imported from sklearn.datasets. Anything that cannot be imported from sklearn.datasets is now part of the private API.\n",
      "  warnings.warn(message, FutureWarning)\n"
     ]
    }
   ],
   "source": [
    "import torch\n",
    "from sklearn.datasets.samples_generator import make_blobs\n",
    "import numpy as np\n",
    "import matplotlib.pyplot as plt\n"
   ]
  },
  {
   "cell_type": "code",
   "execution_count": 2,
   "metadata": {},
   "outputs": [],
   "source": [
    "# Display contour plot of f at all points (x[i],y[j])\n",
    "def contour_plot1(x,y,f,n_levels):\n",
    "    xx, yy = np.meshgrid(x, y)\n",
    "    p=np.hstack([xx.reshape(-1,1),yy.reshape(-1,1)])\n",
    "    X=torch.tensor(p,dtype=torch.float32)\n",
    "    fp=f(X)\n",
    "    z=fp.reshape(xx.shape).detach().numpy()\n",
    "    plt.contourf(x,y,z,n_levels)"
   ]
  },
  {
   "cell_type": "code",
   "execution_count": 3,
   "metadata": {},
   "outputs": [
    {
     "name": "stdout",
     "output_type": "stream",
     "text": [
      "200 0.24286460876464844\n",
      "400 0.15986864268779755\n",
      "600 0.12593992054462433\n",
      "800 0.10715438425540924\n",
      "1000 0.09505595266819\n",
      "1200 0.0865296870470047\n",
      "1400 0.08015128970146179\n",
      "1600 0.07517287880182266\n",
      "1800 0.07116217911243439\n",
      "2000 0.06785089522600174\n",
      "2200 0.06506304442882538\n",
      "2400 0.06267816573381424\n",
      "2600 0.0606108121573925\n",
      "2800 0.05879853665828705\n",
      "3000 0.057194653898477554\n",
      "3200 0.05576333403587341\n",
      "3400 0.05447683110833168\n",
      "3600 0.05331314355134964\n",
      "3800 0.052254609763622284\n",
      "4000 0.05128680169582367\n",
      "4200 0.050397902727127075\n",
      "4400 0.0495782345533371\n",
      "4600 0.04881960153579712\n",
      "4800 0.04811503365635872\n",
      "5000 0.04745863750576973\n",
      "5200 0.046845417469739914\n",
      "5400 0.04627102613449097\n",
      "5600 0.04573168233036995\n",
      "5800 0.0452241487801075\n",
      "6000 0.044745489954948425\n",
      "6200 0.04429319128394127\n",
      "6400 0.04386509582400322\n",
      "6600 0.04345910623669624\n",
      "6800 0.043073561042547226\n",
      "7000 0.04270683228969574\n",
      "7200 0.04235750809311867\n",
      "7400 0.042024336755275726\n",
      "7600 0.041706159710884094\n",
      "7800 0.04140188544988632\n",
      "8000 0.04111069068312645\n",
      "8200 0.040831610560417175\n",
      "8400 0.040563929826021194\n",
      "8600 0.04030688479542732\n",
      "8800 0.04005986452102661\n",
      "9000 0.03982223942875862\n",
      "9200 0.039593446999788284\n",
      "9400 0.03937303647398949\n",
      "9600 0.03916049376130104\n",
      "9800 0.03895539417862892\n",
      "10000 0.038757361471652985\n"
     ]
    }
   ],
   "source": [
    "Xnp, ynp = make_blobs(n_samples=500, centers = [(1, 1), (5,3)], n_features=2)\n",
    "\n",
    "X=torch.tensor(Xnp,dtype=torch.float32)\n",
    "y=torch.tensor(ynp[:,np.newaxis],dtype=torch.float32)\n",
    "\n",
    "# Use the nn package to define a model as a sequence of layers. \n",
    "# nn.Sequential is a Module which contains other Modules, \n",
    "# and applies them in sequence to produce its output. \n",
    "# Each Linear Module computes output from input using a\n",
    "# linear function, and holds internal Tensors for its weight and bias.\n",
    "model = torch.nn.Sequential(\n",
    "    torch.nn.Linear(2, 1),\n",
    "    torch.nn.Sigmoid()\n",
    ")\n",
    "\n",
    "# Use Binary Cross Entropy as loss function.\n",
    "loss_fn = torch.nn.BCELoss()\n",
    "\n",
    "n_its=10000  # Number of iterations\n",
    "learning_rate = 0.1\n",
    "for t in range(n_its):\n",
    "    # Forward pass: compute predicted y by passing x to the model. Module objects\n",
    "    # override the __call__ operator so you can call them like functions. When\n",
    "    # doing so you pass a Tensor of input data to the Module and it produces\n",
    "    # a Tensor of output data.\n",
    "    y_pred = model(X)\n",
    "\n",
    "    # Compute and print loss. We pass Tensors containing the predicted and true\n",
    "    # values of y, and the loss function returns a Tensor containing the\n",
    "    # loss.\n",
    "    loss = loss_fn(y_pred, y)\n",
    "    if ((t+1)%200==0):  # Print every 200th result\n",
    "        print(t+1, loss.item())\n",
    "\n",
    "    # Zero the gradients before running the backward pass.\n",
    "    model.zero_grad()\n",
    "\n",
    "    # Backward pass: compute gradient of the loss with respect to all the learnable\n",
    "    # parameters of the model. Internally, the parameters of each Module are stored\n",
    "    # in Tensors with requires_grad=True, so this call will compute gradients for\n",
    "    # all learnable parameters in the model.\n",
    "    loss.backward()\n",
    "\n",
    "    # Update the weights using gradient descent. Each parameter is a Tensor, so\n",
    "    # we can access its gradients like we did before.\n",
    "    with torch.no_grad():\n",
    "        for param in model.parameters():\n",
    "            param -= learning_rate * param.grad"
   ]
  },
  {
   "cell_type": "code",
   "execution_count": 4,
   "metadata": {},
   "outputs": [
    {
     "data": {
      "image/png": "[encoded data removed]",
      "text/plain": [
       "<Figure size 432x288 with 1 Axes>"
      ]
     },
     "metadata": {},
     "output_type": "display_data"
    }
   ],
   "source": [
    "# Create a grid of points\n",
    "px = np.arange(Xnp[:,0].min()-0.5, Xnp[:,0].max()+0.5, 0.1)\n",
    "py = np.arange(Xnp[:,1].min()-0.5, Xnp[:,1].max()+0.5, 0.1)\n",
    "\n",
    "# Use different colours for different classes\n",
    "X0=Xnp[ynp==0] # Select samples for class 0\n",
    "X1=Xnp[ynp==1] # Select samples for class 1\n",
    "plt.plot(X0[:,0],X0[:,1],\"+\",color=\"red\")\n",
    "plt.plot(X1[:,0],X1[:,1],\"o\",color=\"green\")\n",
    "contour_plot1(px,py,model,15)"
   ]
  }
 ],
 "metadata": {
  "kernelspec": {
   "display_name": "Python 3",
   "language": "python",
   "name": "python3"
  },
  "language_info": {
   "codemirror_mode": {
    "name": "ipython",
    "version": 3
   },
   "file_extension": ".py",
   "mimetype": "text/x-python",
   "name": "python",
   "nbconvert_exporter": "python",
   "pygments_lexer": "ipython3",
   "version": "3.6.5"
  }
 },
 "nbformat": 4,
 "nbformat_minor": 2
}
