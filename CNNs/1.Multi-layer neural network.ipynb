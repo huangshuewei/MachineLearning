{
 "cells": [
  {
   "cell_type": "code",
   "execution_count": 1,
   "metadata": {},
   "outputs": [
    {
     "name": "stderr",
     "output_type": "stream",
     "text": [
      "D:\\Users\\User\\Anaconda3\\lib\\site-packages\\sklearn\\utils\\deprecation.py:143: FutureWarning: The sklearn.datasets.samples_generator module is  deprecated in version 0.22 and will be removed in version 0.24. The corresponding classes / functions should instead be imported from sklearn.datasets. Anything that cannot be imported from sklearn.datasets is now part of the private API.\n",
      "  warnings.warn(message, FutureWarning)\n"
     ]
    }
   ],
   "source": [
    "\"\"\"\n",
    "Example of building a Multi-layer Perceptron with PyTorch\n",
    "\"\"\"\n",
    "\n",
    "import torch\n",
    "from sklearn.datasets.samples_generator import make_blobs\n",
    "import numpy as np\n",
    "import matplotlib.pyplot as plt\n",
    "\n",
    "# Display contour plot of f at all points (x[i],y[j])\n",
    "def contour_plot1(x,y,f,n_levels):\n",
    "    xx, yy = np.meshgrid(x, y)\n",
    "    p=np.hstack([xx.reshape(-1,1),yy.reshape(-1,1)])\n",
    "    X=torch.tensor(p,dtype=torch.float32)\n",
    "    fp=f(X)\n",
    "    z=fp.reshape(xx.shape).detach().numpy()\n",
    "    plt.contourf(x,y,z,n_levels)\n"
   ]
  },
  {
   "cell_type": "code",
   "execution_count": 2,
   "metadata": {},
   "outputs": [],
   "source": [
    "Xnp, ynp = make_blobs(n_samples=150, centers = [(1, 1), (5, 3), (7, 1)], n_features=2)\n",
    "ynp[ynp==2]=0 # Blob2 relabelled as 0\n",
    "\n",
    "X=torch.tensor(Xnp,dtype=torch.float32)\n",
    "y=torch.tensor(ynp[:,np.newaxis],dtype=torch.float32)\n",
    "\n",
    "N_hidden=10  # Number of hidden layers\n",
    "\n",
    "# Use the nn package to define a model as a sequence of layers. \n",
    "# nn.Sequential is a Module which contains other Modules, \n",
    "# and applies them in sequence to produce its output. \n",
    "# Each Linear Module computes output from input using a\n",
    "# linear function, and holds internal Tensors for its weight and bias.\n",
    "model = torch.nn.Sequential(\n",
    "    torch.nn.Linear(2, N_hidden),\n",
    "    torch.nn.Sigmoid(),\n",
    "    torch.nn.Linear(N_hidden, 1),\n",
    "    torch.nn.Sigmoid()\n",
    ")\n",
    "\n",
    "# Use Binary Cross Entropy as loss function.\n",
    "loss_fn = torch.nn.BCELoss()\n"
   ]
  },
  {
   "cell_type": "code",
   "execution_count": 3,
   "metadata": {},
   "outputs": [
    {
     "name": "stdout",
     "output_type": "stream",
     "text": [
      "200 0.4540500342845917\n",
      "400 0.33761441707611084\n",
      "600 0.2795829772949219\n",
      "800 0.24805046617984772\n",
      "1000 0.22991037368774414\n",
      "1200 0.21851471066474915\n",
      "1400 0.2107592672109604\n",
      "1600 0.20511601865291595\n",
      "1800 0.20077885687351227\n",
      "2000 0.197300523519516\n",
      "2200 0.19443732500076294\n",
      "2400 0.192052960395813\n",
      "2600 0.19004595279693604\n",
      "2800 0.18833120167255402\n",
      "3000 0.18684279918670654\n",
      "3200 0.1855328381061554\n",
      "3400 0.18436618149280548\n",
      "3600 0.18331660330295563\n",
      "3800 0.18236418068408966\n",
      "4000 0.18149326741695404\n",
      "4200 0.18069149553775787\n",
      "4400 0.17994911968708038\n",
      "4600 0.1792580634355545\n",
      "4800 0.17861157655715942\n",
      "5000 0.17800423502922058\n"
     ]
    }
   ],
   "source": [
    "n_its=5000  # Number of iterations\n",
    "learning_rate = 0.1\n",
    "for t in range(n_its):\n",
    "    # Forward pass: compute predicted y by passing x to the model. Module objects\n",
    "    # override the __call__ operator so you can call them like functions. When\n",
    "    # doing so you pass a Tensor of input data to the Module and it produces\n",
    "    # a Tensor of output data.\n",
    "    y_pred = model(X)\n",
    "\n",
    "    # Compute and print loss. We pass Tensors containing the predicted and true\n",
    "    # values of y, and the loss function returns a Tensor containing the\n",
    "    # loss.\n",
    "    loss = loss_fn(y_pred, y)\n",
    "    if ((t+1)%200==0):  # Print every 100th result\n",
    "        print(t+1, loss.item())\n",
    "\n",
    "    # Zero the gradients before running the backward pass.\n",
    "    model.zero_grad()\n",
    "\n",
    "    # Backward pass: compute gradient of the loss with respect to all the learnable\n",
    "    # parameters of the model. Internally, the parameters of each Module are stored\n",
    "    # in Tensors with requires_grad=True, so this call will compute gradients for\n",
    "    # all learnable parameters in the model.\n",
    "    loss.backward()\n",
    "\n",
    "    # Update the weights using gradient descent. Each parameter is a Tensor, so\n",
    "    # we can access its gradients like we did before.\n",
    "    with torch.no_grad():\n",
    "        for param in model.parameters():\n",
    "            param -= learning_rate * param.grad\n",
    "            "
   ]
  },
  {
   "cell_type": "code",
   "execution_count": 4,
   "metadata": {},
   "outputs": [
    {
     "data": {
      "image/png": "[encoded data removed]",
      "text/plain": [
       "<Figure size 432x288 with 1 Axes>"
      ]
     },
     "metadata": {},
     "output_type": "display_data"
    }
   ],
   "source": [
    "# Create a grid of points\n",
    "px = np.arange(Xnp[:,0].min()-0.5, Xnp[:,0].max()+0.5, 0.1)\n",
    "py = np.arange(Xnp[:,1].min()-0.5, Xnp[:,1].max()+0.5, 0.1)\n",
    "\n",
    "\n",
    "# Use different colours for different classes\n",
    "X0=Xnp[ynp==0] # Select samples for class 0\n",
    "X1=Xnp[ynp==1] # Select samples for class 1\n",
    "plt.plot(X0[:,0],X0[:,1],\"+\",color=\"red\")\n",
    "plt.plot(X1[:,0],X1[:,1],\"o\",color=\"green\")\n",
    "contour_plot1(px,py,model,15)\n"
   ]
  }
 ],
 "metadata": {
  "kernelspec": {
   "display_name": "Python 3",
   "language": "python",
   "name": "python3"
  },
  "language_info": {
   "codemirror_mode": {
    "name": "ipython",
    "version": 3
   },
   "file_extension": ".py",
   "mimetype": "text/x-python",
   "name": "python",
   "nbconvert_exporter": "python",
   "pygments_lexer": "ipython3",
   "version": "3.6.5"
  }
 },
 "nbformat": 4,
 "nbformat_minor": 2
}
