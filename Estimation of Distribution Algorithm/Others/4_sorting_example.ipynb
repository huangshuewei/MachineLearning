{
 "cells": [
  {
   "cell_type": "code",
   "execution_count": 1,
   "metadata": {},
   "outputs": [
    {
     "name": "stdout",
     "output_type": "stream",
     "text": [
      "v    : [0 6 5 1]\n",
      "Order: [0 3 2 1]\n",
      "Ordered v is  [0 1 5 6]\n",
      "Matrix: \n",
      "[[0 1]\n",
      " [3 4]\n",
      " [5 6]\n",
      " [7 8]]\n",
      "Matrix rows ordered by rank of v\n",
      "[[0 1]\n",
      " [7 8]\n",
      " [5 6]\n",
      " [3 4]]\n"
     ]
    }
   ],
   "source": [
    "\"\"\"\n",
    "Example of sorting\n",
    "Shows how to find the order of a set of elements in a vector\n",
    "Shows how to re-order the rows of a matrix using that rank\n",
    "\n",
    "\"\"\"\n",
    "\n",
    "import numpy as np\n",
    "\n",
    "v=np.array([0,6,5,1])\n",
    "\n",
    "# Find the order of the elements\n",
    "order=np.argsort(v)\n",
    "print(\"v    :\",v)\n",
    "print(\"Order:\",order)\n",
    "# So v[order[i]] is the i-th largest element of v\n",
    "\n",
    "print(\"Ordered v is \",v[order])\n",
    "\n",
    "\n",
    "M=np.array([[0,1],[3,4],[5,6],[7,8]])\n",
    "print(\"Matrix: \")\n",
    "print(M)\n",
    "\n",
    "print(\"Matrix rows ordered by rank of v\")\n",
    "print(M[order,:])\n"
   ]
  },
  {
   "cell_type": "code",
   "execution_count": null,
   "metadata": {},
   "outputs": [],
   "source": []
  }
 ],
 "metadata": {
  "kernelspec": {
   "display_name": "Python 3",
   "language": "python",
   "name": "python3"
  },
  "language_info": {
   "codemirror_mode": {
    "name": "ipython",
    "version": 3
   },
   "file_extension": ".py",
   "mimetype": "text/x-python",
   "name": "python",
   "nbconvert_exporter": "python",
   "pygments_lexer": "ipython3",
   "version": "3.6.5"
  }
 },
 "nbformat": 4,
 "nbformat_minor": 2
}
