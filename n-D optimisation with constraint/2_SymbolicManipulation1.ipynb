{
 "cells": [
  {
   "cell_type": "code",
   "execution_count": 1,
   "metadata": {},
   "outputs": [
    {
     "name": "stdout",
     "output_type": "stream",
     "text": [
      "Write out sqr(x+1) in full:\n",
      "x**2 + 2*x + 1\n",
      "Simplify (x*x-1)/(x-1)\n",
      "x + 1\n",
      "Differentiating x*x\n",
      "2*x\n",
      "Differentiating 3*x**3+2*x+1\n",
      "3*x**2 + 2\n",
      "Differentiating sin(x)\n",
      "cos(x)\n",
      "Function: f1= exp(-x**2)\n",
      "Differential of f1: -2*x*exp(-x**2)\n",
      "Integrating sin(x)\n",
      "-cos(x)\n"
     ]
    }
   ],
   "source": [
    "\"\"\"\n",
    "Examples using the sympy library \n",
    "\n",
    "\"\"\"\n",
    "\n",
    "import sympy as sym\n",
    "\n",
    "# First tell the system we are going to use x as a variable\n",
    "x=sym.Symbol('x')\n",
    "\n",
    "print(\"Write out sqr(x+1) in full:\")\n",
    "print(sym.expand((x+1)**2))\n",
    "# Note that x**2 means x raised to the power 2 (i.e. squared)\n",
    "\n",
    "print(\"Simplify (x*x-1)/(x-1)\")\n",
    "print(sym.simplify((x*x-1)/(x-1) ))\n",
    "\n",
    "# Differentiation\n",
    "print(\"Differentiating x*x\")\n",
    "print(sym.diff(x*x,x))\n",
    "\n",
    "# Differentiation\n",
    "print(\"Differentiating 3*x**3+2*x+1\")\n",
    "print(sym.diff(x**3+2*x+1,x))\n",
    "\n",
    "# Differentiation\n",
    "print(\"Differentiating sin(x)\")\n",
    "# Note use of \"sym.sin(x)\" for the sin function.\n",
    "print(sym.diff(sym.sin(x),x))\n",
    "\n",
    "# Setting up functions\n",
    "f1=sym.exp(-x*x)\n",
    "print(\"Function: f1=\",f1)\n",
    "print(\"Differential of f1:\",sym.diff(f1))\n",
    "\n",
    "\n",
    "# =========Integration =========\n",
    "print(\"Integrating sin(x)\")\n",
    "print(sym.integrate(sym.sin(x),x))\n"
   ]
  },
  {
   "cell_type": "code",
   "execution_count": null,
   "metadata": {},
   "outputs": [],
   "source": []
  }
 ],
 "metadata": {
  "kernelspec": {
   "display_name": "Python 3",
   "language": "python",
   "name": "python3"
  },
  "language_info": {
   "codemirror_mode": {
    "name": "ipython",
    "version": 3
   },
   "file_extension": ".py",
   "mimetype": "text/x-python",
   "name": "python",
   "nbconvert_exporter": "python",
   "pygments_lexer": "ipython3",
   "version": "3.6.5"
  }
 },
 "nbformat": 4,
 "nbformat_minor": 2
}
