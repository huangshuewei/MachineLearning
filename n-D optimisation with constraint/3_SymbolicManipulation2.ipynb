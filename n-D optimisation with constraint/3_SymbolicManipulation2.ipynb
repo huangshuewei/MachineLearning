{
 "cells": [
  {
   "cell_type": "code",
   "execution_count": 1,
   "metadata": {},
   "outputs": [
    {
     "name": "stdout",
     "output_type": "stream",
     "text": [
      "Write out sqr(a*x+1) in full:\n",
      "a**2*x**2 + 2*a*x + 1\n",
      "Function f1= exp(a*x)\n",
      "Differential:  a*exp(a*x)\n",
      "Differentiating sin(exp(x))\n",
      "exp(x)*cos(exp(x))\n",
      "Differentiating a*sin(x)/x\n",
      "a*cos(x)/x - a*sin(x)/x**2\n",
      "Differentiating x(exp(x+a))\n",
      "x*exp(a + x) + exp(a + x)\n"
     ]
    }
   ],
   "source": [
    "\"\"\"\n",
    "Examples using the sympy library \n",
    "Using more variables\n",
    "\n",
    "\"\"\"\n",
    "\n",
    "import sympy as sym\n",
    "\n",
    "# First tell the system we are going to use x and a as variables\n",
    "x=sym.Symbol('x')\n",
    "a=sym.Symbol('a')\n",
    "\n",
    "# Now a is treated as a constant\n",
    "print(\"Write out sqr(a*x+1) in full:\")\n",
    "print(sym.expand((a*x+1)**2))\n",
    "\n",
    "f1=sym.exp(a*x)\n",
    "print(\"Function f1=\",f1)\n",
    "print(\"Differential: \",sym.diff(f1,x))\n",
    "\n",
    "\n",
    "print(\"Differentiating sin(exp(x))\")\n",
    "print(sym.diff(sym.sin(sym.exp(x)),x))\n",
    "\n",
    "print(\"Differentiating a*sin(x)/x\")\n",
    "print(sym.diff(a*sym.sin(x)/x,x))\n",
    "\n",
    "print(\"Differentiating x(exp(x+a))\")\n",
    "print(sym.diff(x*sym.exp(x+a),x))"
   ]
  },
  {
   "cell_type": "code",
   "execution_count": null,
   "metadata": {},
   "outputs": [],
   "source": []
  }
 ],
 "metadata": {
  "kernelspec": {
   "display_name": "Python 3",
   "language": "python",
   "name": "python3"
  },
  "language_info": {
   "codemirror_mode": {
    "name": "ipython",
    "version": 3
   },
   "file_extension": ".py",
   "mimetype": "text/x-python",
   "name": "python",
   "nbconvert_exporter": "python",
   "pygments_lexer": "ipython3",
   "version": "3.6.5"
  }
 },
 "nbformat": 4,
 "nbformat_minor": 2
}
