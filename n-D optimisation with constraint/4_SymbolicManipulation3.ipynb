{
 "cells": [
  {
   "cell_type": "code",
   "execution_count": 1,
   "metadata": {},
   "outputs": [
    {
     "name": "stdout",
     "output_type": "stream",
     "text": [
      "Write out sqr(x+y) in full:\n",
      "x**2 + 2*x*y + y**2\n",
      "Differentiating log(a+x))\n",
      "1/(a + x)\n",
      "Differentiating f1= a*x**2 + b*x*y + c*y**2\n",
      "df1/dx =  2*a*x + b*y\n",
      "df1/dy =  b*x + 2*c*y\n",
      "Differentiating f2=cos(f1)\n",
      "df2/dx =  -(2*a*x + b*y)*sin(a*x**2 + b*x*y + c*y**2)\n",
      "df2/dy =  -(b*x + 2*c*y)*sin(a*x**2 + b*x*y + c*y**2)\n"
     ]
    }
   ],
   "source": [
    "\"\"\"\n",
    "Examples using the sympy library \n",
    "Differenting w.r.t multiple variables.\n",
    "\n",
    "\"\"\"\n",
    "\n",
    "import sympy as sym\n",
    "\n",
    "# First tell the system we are going to use x and y as variables\n",
    "x=sym.Symbol('x')\n",
    "y=sym.Symbol('y')\n",
    "a=sym.Symbol('a')\n",
    "b=sym.Symbol('b')\n",
    "c=sym.Symbol('c')\n",
    "\n",
    "print(\"Write out sqr(x+y) in full:\")\n",
    "print(sym.expand((x+y)**2))\n",
    "\n",
    "\n",
    "print(\"Differentiating log(a+x))\")\n",
    "print(sym.diff(sym.log(a+x),x))\n",
    "\n",
    "\n",
    "#========== 2D functions ========\n",
    "\n",
    "f1=a*x*x+b*x*y+c*y*y\n",
    "print(\"Differentiating f1=\",f1)\n",
    "print(\"df1/dx = \",sym.diff(f1,x))\n",
    "print(\"df1/dy = \",sym.diff(f1,y))\n",
    "\n",
    "# More complex\n",
    "print(\"Differentiating f2=cos(f1)\",)\n",
    "print(\"df2/dx = \",sym.diff(sym.cos(f1),x))\n",
    "print(\"df2/dy = \",sym.diff(sym.cos(f1),y))"
   ]
  },
  {
   "cell_type": "code",
   "execution_count": null,
   "metadata": {},
   "outputs": [],
   "source": []
  }
 ],
 "metadata": {
  "kernelspec": {
   "display_name": "Python 3",
   "language": "python",
   "name": "python3"
  },
  "language_info": {
   "codemirror_mode": {
    "name": "ipython",
    "version": 3
   },
   "file_extension": ".py",
   "mimetype": "text/x-python",
   "name": "python",
   "nbconvert_exporter": "python",
   "pygments_lexer": "ipython3",
   "version": "3.6.5"
  }
 },
 "nbformat": 4,
 "nbformat_minor": 2
}
