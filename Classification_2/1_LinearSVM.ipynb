{
 "cells": [
  {
   "cell_type": "code",
   "execution_count": 1,
   "metadata": {},
   "outputs": [],
   "source": [
    "\"\"\"\n",
    "Simple example of linear Support Vector Machine\n",
    "\"\"\"\n",
    "\n",
    "from sklearn.svm import LinearSVC\n",
    "from sklearn.datasets.samples_generator import make_blobs\n",
    "import numpy as np\n",
    "import matplotlib.pyplot as plt\n",
    "\n",
    "# Display contour plot of f at all points (x[i],y[j])\n",
    "def contour_plot1(x,y,f,n_levels):\n",
    "    xx, yy = np.meshgrid(x, y)\n",
    "    p=np.hstack([xx.reshape(-1,1),yy.reshape(-1,1)])\n",
    "    fp=f(p)\n",
    "    plt.contourf(x,y,fp.reshape(xx.shape),n_levels,cmap=\"gray\")"
   ]
  },
  {
   "cell_type": "code",
   "execution_count": 2,
   "metadata": {},
   "outputs": [
    {
     "name": "stdout",
     "output_type": "stream",
     "text": [
      "[[ 0.92378929 -0.27542158]]\n",
      "[-1.83763079]\n",
      "[1]\n"
     ]
    }
   ],
   "source": [
    "X, y = make_blobs(n_samples=100, centers = [(1, 3), (5, 3)], n_features=2)\n",
    "\n",
    "clf = LinearSVC(random_state=0, tol=1e-5)\n",
    "clf.fit(X, y)\n",
    "LinearSVC(C=1.0, class_weight=None, dual=True, fit_intercept=True,\n",
    "     intercept_scaling=1, loss='squared_hinge', max_iter=1000,\n",
    "     multi_class='ovr', penalty='l2', random_state=0, tol=1e-05, verbose=0)\n",
    "\n",
    "print(clf.coef_)\n",
    "print(clf.intercept_)\n",
    "print(clf.predict([[4, 0]]))\n",
    "\n",
    "# Create a grid of points\n",
    "px = np.arange(X[:,0].min()-.5, X[:,0].max()+.5, 0.1)\n",
    "py = np.arange(X[:,1].min()-.5, X[:,1].max()+.5, 0.1)"
   ]
  },
  {
   "cell_type": "code",
   "execution_count": 3,
   "metadata": {},
   "outputs": [
    {
     "data": {
      "image/png": "[encoded data removed]",
      "text/plain": [
       "<Figure size 432x288 with 1 Axes>"
      ]
     },
     "metadata": {},
     "output_type": "display_data"
    }
   ],
   "source": [
    "# Use different colours for different classes\n",
    "X0=X[y==0] # Select samples for class 0\n",
    "X1=X[y==1] # Select samples for class 1\n",
    "plt.plot(X0[:,0],X0[:,1],\"+\",color=\"red\")\n",
    "plt.plot(X1[:,0],X1[:,1],\"o\",color=\"green\")\n",
    "contour_plot1(px,py,clf.predict,15)\n",
    "plt.title(\"Estimated class at each point\")\n",
    "plt.show()"
   ]
  },
  {
   "cell_type": "code",
   "execution_count": null,
   "metadata": {},
   "outputs": [],
   "source": []
  }
 ],
 "metadata": {
  "kernelspec": {
   "display_name": "Python 3",
   "language": "python",
   "name": "python3"
  },
  "language_info": {
   "codemirror_mode": {
    "name": "ipython",
    "version": 3
   },
   "file_extension": ".py",
   "mimetype": "text/x-python",
   "name": "python",
   "nbconvert_exporter": "python",
   "pygments_lexer": "ipython3",
   "version": "3.6.5"
  }
 },
 "nbformat": 4,
 "nbformat_minor": 2
}
